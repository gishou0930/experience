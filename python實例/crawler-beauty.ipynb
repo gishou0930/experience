{
 "cells": [
  {
   "cell_type": "markdown",
   "metadata": {},
   "source": [
    "<h1>分開演示版"
   ]
  },
  {
   "cell_type": "code",
   "execution_count": null,
   "metadata": {
    "scrolled": true
   },
   "outputs": [],
   "source": [
    "#連線\n",
    "import requests\n",
    "\n",
    "#找想要的beauty文，有些文章的圖片無法正確下載，目前還不知道原因\n",
    "url = input(\"輸入表特版的文章的url：\")\n",
    "User_agent = input(\"輸入自己的User-Agent：\")\n",
    "headers = {\n",
    "    \"cookie\":\"over18=1\",\n",
    "    #寫入自己的User-Agent\n",
    "    \"User-Agent\":User_agent\n",
    "}\n",
    "\n",
    "response = requests.get(url=url,headers=headers)\n",
    "print(response.text)"
   ]
  },
  {
   "cell_type": "code",
   "execution_count": null,
   "metadata": {},
   "outputs": [],
   "source": [
    "#轉成beautifulsoup4\n",
    "import bs4\n",
    "\n",
    "soup = bs4.BeautifulSoup(response.text,\"html.parser\")\n",
    "print(soup)"
   ]
  },
  {
   "cell_type": "code",
   "execution_count": null,
   "metadata": {},
   "outputs": [],
   "source": [
    "#找出圖片並儲存\n",
    "import shutil\n",
    "import time\n",
    "import cv2\n",
    "import matplotlib.pyplot as plt\n",
    "\n",
    "img_number = 1\n",
    "#找出圖片的特色標籤\n",
    "imgs = soup.find_all(\"a\",target=\"_blank\")\n",
    "for img in imgs:\n",
    "    #如果是圖片才動作\n",
    "    if(img.string.find(\"imgur\")!=-1):\n",
    "        img_name = \"ptt-beauty\"+str(img_number)+\".jpg\"\n",
    "        #stream=true 可強制解壓縮下載圖片\n",
    "        img = requests.get(img.string,stream=True)\n",
    "        #打開空的文件 並設定可寫入 wb用於圖片 若名稱不存在則會新增文件\n",
    "        img_wb = open(img_name,'wb')\n",
    "        #將圖片複製到文件內 img.raw可以找出圖片所在的記憶體位址\n",
    "        shutil.copyfileobj(img.raw,img_wb)\n",
    "        #寫完就關閉\n",
    "        img_wb.close()\n",
    "        #清除記憶體\n",
    "        del img\n",
    "        \n",
    "        #讀圖片\n",
    "        img_read = cv2.imread(img_name)\n",
    "        plt.imshow(cv2.cvtColor(img_read, cv2.COLOR_BGR2RGB))\n",
    "        plt.axis('off')\n",
    "        plt.show()\n",
    "        \n",
    "        img_number += 1\n",
    "        time.sleep(1)"
   ]
  },
  {
   "cell_type": "markdown",
   "metadata": {},
   "source": [
    "<h1>整合版"
   ]
  },
  {
   "cell_type": "code",
   "execution_count": null,
   "metadata": {},
   "outputs": [],
   "source": [
    "import requests\n",
    "import bs4\n",
    "import shutil\n",
    "import time\n",
    "import cv2\n",
    "import matplotlib.pyplot as plt\n",
    "\n",
    "#連線\n",
    "#有些文章的圖片無法正確下載，目前還不知道原因\n",
    "url = input(\"輸入表特版的文章的url：\")\n",
    "User_agent = input(\"輸入自己的User-Agent：\")\n",
    "headers = {\n",
    "    \"cookie\":\"over18=1\",\n",
    "    #寫入自己的User-Agent\n",
    "    \"User-Agent\":User_agent\n",
    "}\n",
    "\n",
    "response = requests.get(url=url,headers=headers)\n",
    "\n",
    "#轉成beautifulsoup4\n",
    "soup = bs4.BeautifulSoup(response.text,\"html.parser\")\n",
    "\n",
    "#找出圖片並儲存\n",
    "img_number = 1\n",
    "#找出圖片的特色標籤\n",
    "imgs = soup.find_all(\"a\",target=\"_blank\")\n",
    "for img in imgs:\n",
    "    #如果是圖片才動作\n",
    "    if(img.string.find(\"imgur\")!=-1):\n",
    "        img_name = \"ptt-beauty\"+str(img_number)+\".jpg\"\n",
    "        #stream=true 可強制解壓縮下載圖片\n",
    "        img = requests.get(img.string,stream=True)\n",
    "        #打開空的文件 並設定可寫入 wb用於圖片 若名稱不存在則會新增文件\n",
    "        img_wb = open(img_name,'wb')\n",
    "        #將圖片複製到文件內 img.raw可以找出圖片所在的記憶體位址\n",
    "        shutil.copyfileobj(img.raw,img_wb)\n",
    "        #寫完就關閉\n",
    "        img_wb.close()\n",
    "        #清除記憶體\n",
    "        del img\n",
    "        \n",
    "        #讀圖片\n",
    "        img_read = cv2.imread(img_name)\n",
    "        plt.imshow(cv2.cvtColor(img_read, cv2.COLOR_BGR2RGB))\n",
    "        plt.axis('off')\n",
    "        plt.show()\n",
    "        \n",
    "        img_number += 1\n",
    "        time.sleep(1)"
   ]
  },
  {
   "cell_type": "code",
   "execution_count": null,
   "metadata": {},
   "outputs": [],
   "source": []
  }
 ],
 "metadata": {
  "kernelspec": {
   "display_name": "Python 3",
   "language": "python",
   "name": "python3"
  },
  "language_info": {
   "codemirror_mode": {
    "name": "ipython",
    "version": 3
   },
   "file_extension": ".py",
   "mimetype": "text/x-python",
   "name": "python",
   "nbconvert_exporter": "python",
   "pygments_lexer": "ipython3",
   "version": "3.7.7"
  }
 },
 "nbformat": 4,
 "nbformat_minor": 4
}
