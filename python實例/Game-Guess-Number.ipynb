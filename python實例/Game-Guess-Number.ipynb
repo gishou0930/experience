{
 "cells": [
  {
   "cell_type": "code",
   "execution_count": 42,
   "metadata": {},
   "outputs": [
    {
     "name": "stdout",
     "output_type": "stream",
     "text": [
      "輸入數字：1~100：50\n",
      "太高了\n",
      "輸入數字：1~49：30\n",
      "太高了\n",
      "輸入數字：1~29：20\n",
      "太小了\n",
      "輸入數字：21~29：25\n",
      "太小了\n",
      "輸入數字：26~29：28\n",
      "太高了\n",
      "輸入數字：26~27：26\n",
      "答對了\n"
     ]
    }
   ],
   "source": [
    "import random\n",
    "\n",
    "goal = random.randint(1,100)\n",
    "high = 100\n",
    "low = 1\n",
    "while True:\n",
    "    try:\n",
    "        if high == low:\n",
    "            print(\"答案是：%d\"%goal)\n",
    "        else:\n",
    "            guess = int(input(\"輸入數字：%d~%d：\"%(low,high)))\n",
    "    except:\n",
    "        print(\"請輸入數字\")\n",
    "    else:\n",
    "        if guess == goal:\n",
    "            print(\"答對了\")\n",
    "            break\n",
    "        elif guess > high or guess < low:\n",
    "            print(\"請輸入範圍內的數字\")\n",
    "        elif guess > goal:\n",
    "            high = guess-1\n",
    "            print(\"太高了\")\n",
    "        elif guess < goal:\n",
    "            low = guess+1\n",
    "            print(\"太小了\")"
   ]
  },
  {
   "cell_type": "code",
   "execution_count": null,
   "metadata": {},
   "outputs": [],
   "source": []
  }
 ],
 "metadata": {
  "kernelspec": {
   "display_name": "Python 3",
   "language": "python",
   "name": "python3"
  },
  "language_info": {
   "codemirror_mode": {
    "name": "ipython",
    "version": 3
   },
   "file_extension": ".py",
   "mimetype": "text/x-python",
   "name": "python",
   "nbconvert_exporter": "python",
   "pygments_lexer": "ipython3",
   "version": "3.7.7"
  }
 },
 "nbformat": 4,
 "nbformat_minor": 4
}
