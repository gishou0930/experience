{
 "cells": [
  {
   "cell_type": "code",
   "execution_count": 1,
   "metadata": {},
   "outputs": [],
   "source": [
    "#利用selenium套件，獲取Maicoin即時BTC價格\n",
    "from selenium import webdriver\n",
    "\n",
    "# 透過Browser Driver 開啟 Chrome 要注意Chrome的Version\n",
    "driver = webdriver.Chrome()\n",
    "# 前往特定網址\n",
    "default_url = \"https://www.maicoin.com/market/BTC\"\n",
    "driver.get(default_url)"
   ]
  },
  {
   "cell_type": "code",
   "execution_count": 2,
   "metadata": {},
   "outputs": [
    {
     "name": "stdout",
     "output_type": "stream",
     "text": [
      "[908637, 54602, 11808, '15:14']\n"
     ]
    },
    {
     "ename": "KeyboardInterrupt",
     "evalue": "",
     "output_type": "error",
     "traceback": [
      "\u001b[1;31m---------------------------------------------------------------------------\u001b[0m",
      "\u001b[1;31mKeyboardInterrupt\u001b[0m                         Traceback (most recent call last)",
      "\u001b[1;32m<ipython-input-2-362a20be3f74>\u001b[0m in \u001b[0;36m<module>\u001b[1;34m\u001b[0m\n\u001b[0;32m     27\u001b[0m         \u001b[0mspamwriter\u001b[0m \u001b[1;33m=\u001b[0m \u001b[0mcsv\u001b[0m\u001b[1;33m.\u001b[0m\u001b[0mwriter\u001b[0m\u001b[1;33m(\u001b[0m\u001b[0mcsvfile\u001b[0m\u001b[1;33m)\u001b[0m\u001b[1;33m\u001b[0m\u001b[1;33m\u001b[0m\u001b[0m\n\u001b[0;32m     28\u001b[0m         \u001b[0mspamwriter\u001b[0m\u001b[1;33m.\u001b[0m\u001b[0mwriterow\u001b[0m\u001b[1;33m(\u001b[0m\u001b[0mprice\u001b[0m\u001b[1;33m)\u001b[0m\u001b[1;33m\u001b[0m\u001b[1;33m\u001b[0m\u001b[0m\n\u001b[1;32m---> 29\u001b[1;33m     \u001b[0mtime\u001b[0m\u001b[1;33m.\u001b[0m\u001b[0msleep\u001b[0m\u001b[1;33m(\u001b[0m\u001b[1;36m10\u001b[0m\u001b[1;33m)\u001b[0m\u001b[1;33m\u001b[0m\u001b[1;33m\u001b[0m\u001b[0m\n\u001b[0m",
      "\u001b[1;31mKeyboardInterrupt\u001b[0m: "
     ]
    }
   ],
   "source": [
    "import time\n",
    "import csv\n",
    "import os\n",
    "\n",
    "while True:\n",
    "    price = [\"BTC_Price\",\"ETH_Price\",\"COMP_Price\",\"Time\"]\n",
    "    #對想要找的資料:右鍵 > copy > copy selector\n",
    "    btc = driver.find_elements_by_css_selector(\"#root > div > div > div > div.css-1dbjc4n.r-13awgt0 > div > div > div > div > div > div > div > div.css-1dbjc4n.r-1p0dtai.r-1d2f490.r-105ug2t.r-u8s1d.r-zchlnj.r-ipm5af > div > div > div > div > div > div > div.css-1dbjc4n.r-ve2vwf.r-1phboty.r-rs99b7.r-18u37iz.r-13mh8yk.r-1jgb5lz.r-1ywbc0j > div.css-1dbjc4n.r-1rnoaur.r-12kfsgm > a:nth-child(2) > div > div.css-1dbjc4n.r-13awgt0.r-17s6mgv > div.css-1dbjc4n.r-dta0w2.r-17s6mgv.r-5oul0u > div > span.css-901oao.css-16my406.css-bfa6kz.r-1tyxmls\")\n",
    "    eth = driver.find_elements_by_css_selector(\"#root > div > div > div > div.css-1dbjc4n.r-13awgt0 > div > div > div > div > div > div > div > div.css-1dbjc4n.r-1p0dtai.r-1d2f490.r-105ug2t.r-u8s1d.r-zchlnj.r-ipm5af > div > div > div > div > div > div > div.css-1dbjc4n.r-ve2vwf.r-1phboty.r-rs99b7.r-18u37iz.r-13mh8yk.r-1jgb5lz.r-1ywbc0j > div.css-1dbjc4n.r-1rnoaur.r-12kfsgm > a:nth-child(4) > div > div.css-1dbjc4n.r-13awgt0.r-17s6mgv > div.css-1dbjc4n.r-dta0w2.r-17s6mgv.r-5oul0u.r-knv0ih > div > span.css-901oao.css-16my406.css-bfa6kz.r-1tyxmls\")\n",
    "    comp = driver.find_elements_by_css_selector(\"#root > div > div > div > div.css-1dbjc4n.r-13awgt0 > div > div > div > div > div > div > div > div.css-1dbjc4n.r-1p0dtai.r-1d2f490.r-105ug2t.r-u8s1d.r-zchlnj.r-ipm5af > div > div > div > div > div > div > div.css-1dbjc4n.r-ve2vwf.r-1phboty.r-rs99b7.r-18u37iz.r-13mh8yk.r-1jgb5lz.r-1ywbc0j > div.css-1dbjc4n.r-1rnoaur.r-12kfsgm > a:nth-child(9) > div > div.css-1dbjc4n.r-13awgt0.r-17s6mgv > div.css-1dbjc4n.r-dta0w2.r-17s6mgv.r-5oul0u.r-knv0ih > div > span.css-901oao.css-16my406.css-bfa6kz.r-1tyxmls\")\n",
    "    times = time.strftime(\"%H:%M\", time.localtime())\n",
    "    date = time.strftime(\"%m%d\", time.localtime())\n",
    "    fileName = 'maicoin_price_'+date+'.csv'\n",
    "    #若csv檔不存在，則先新增一個新的csv檔\n",
    "    if not os.path.isfile(fileName):\n",
    "        with open(fileName, 'a',newline=\"\") as csvfile:\n",
    "            spamwriter = csv.writer(csvfile)\n",
    "            spamwriter.writerow(price)\n",
    "    #存入list .text可取得資料 \n",
    "    price[0] = int(btc[0].text.replace(\",\",\"\"))\n",
    "    price[1] = int(eth[0].text.replace(\",\",\"\"))\n",
    "    price[2] = int(float(comp[0].text.replace(\",\",\"\")))\n",
    "    price[3] = times\n",
    "    print(price)\n",
    "    #將資料存入csv\n",
    "    with open(fileName, 'a',newline=\"\") as csvfile:\n",
    "        spamwriter = csv.writer(csvfile)\n",
    "        spamwriter.writerow(price)\n",
    "    time.sleep(10)"
   ]
  },
  {
   "cell_type": "code",
   "execution_count": null,
   "metadata": {},
   "outputs": [],
   "source": []
  }
 ],
 "metadata": {
  "kernelspec": {
   "display_name": "Python 3",
   "language": "python",
   "name": "python3"
  },
  "language_info": {
   "codemirror_mode": {
    "name": "ipython",
    "version": 3
   },
   "file_extension": ".py",
   "mimetype": "text/x-python",
   "name": "python",
   "nbconvert_exporter": "python",
   "pygments_lexer": "ipython3",
   "version": "3.7.7"
  }
 },
 "nbformat": 4,
 "nbformat_minor": 4
}
