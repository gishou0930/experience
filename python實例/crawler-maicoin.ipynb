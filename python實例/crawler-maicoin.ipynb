{
 "cells": [
  {
   "cell_type": "code",
   "execution_count": 9,
   "metadata": {},
   "outputs": [
    {
     "name": "stdout",
     "output_type": "stream",
     "text": [
      "        price    datetime\n",
      "0    271367.0  2020-07-15\n",
      "1    268494.0  2020-07-16\n",
      "2    269847.0  2020-07-17\n",
      "3    270787.0  2020-07-18\n",
      "4    271600.0  2020-07-19\n",
      "..        ...         ...\n",
      "359  946496.0  2021-07-09\n",
      "360  938281.0  2021-07-10\n",
      "361  957805.0  2021-07-11\n",
      "362  926344.0  2021-07-12\n",
      "363  917637.0  2021-07-13\n",
      "\n",
      "[364 rows x 2 columns]\n"
     ]
    }
   ],
   "source": [
    "from datetime import datetime\n",
    "import requests\n",
    "import bs4 #beautifulsoup4\n",
    "import pandas as pd\n",
    "import json\n",
    "#不顯示警告\n",
    "pd.set_option('mode.chained_assignment', None)\n",
    "\n",
    "#連線進maicoin存放BTC一年資料的位置\n",
    "url = \"https://www.maicoin.com/graphql?operationName=TrendView_GetTrend&variables=%7B%22currency%22%3A%22BTC%22%2C%22duration%22%3A%22YEAR%22%2C%22precisionInHour%22%3A48%7D&extensions=%7B%22persistedQuery%22%3A%7B%22version%22%3A1%2C%22sha256Hash%22%3A%22380500d355bee079be657d62e745fc9691e1c411e646805b4fae55f4758e9fdd%22%7D%7D\" \n",
    "headers = {\n",
    "    \"User-Agent\":\"Mozilla/5.0 (Windows NT 10.0; Win64; x64) AppleWebKit/537.36 (KHTML, like Gecko) Chrome/91.0.4472.124 Safari/537.36\"\n",
    "}\n",
    "response = requests.get(url=url,headers=headers)\n",
    "\n",
    "datas = response.text\n",
    "#轉json格式\n",
    "datas = json.loads(datas)\n",
    "#觀察找出需要的價錢位置\n",
    "btc = datas[\"data\"][\"trend\"][\"data\"]\n",
    "btc_pd = pd.DataFrame(btc)\n",
    "#刪除不要的欄位\n",
    "del btc_pd[\"__typename\"]\n",
    "#把時間轉成標準時間\n",
    "time2 = []\n",
    "times_count = 0\n",
    "price_count = 0\n",
    "for times in btc_pd[\"datetime\"]:\n",
    "    times = times/1000\n",
    "    time = datetime.utcfromtimestamp(times).strftime('%Y-%m-%d')\n",
    "    btc_pd[\"datetime\"][times_count] = time\n",
    "    times_count += 1\n",
    "for price in btc_pd[\"price\"]:\n",
    "    btc_pd[\"price\"][price_count] = int(price)\n",
    "    price_count += 1\n",
    "print(btc_pd)"
   ]
  },
  {
   "cell_type": "code",
   "execution_count": null,
   "metadata": {},
   "outputs": [],
   "source": []
  }
 ],
 "metadata": {
  "kernelspec": {
   "display_name": "Python 3",
   "language": "python",
   "name": "python3"
  },
  "language_info": {
   "codemirror_mode": {
    "name": "ipython",
    "version": 3
   },
   "file_extension": ".py",
   "mimetype": "text/x-python",
   "name": "python",
   "nbconvert_exporter": "python",
   "pygments_lexer": "ipython3",
   "version": "3.7.7"
  }
 },
 "nbformat": 4,
 "nbformat_minor": 4
}
