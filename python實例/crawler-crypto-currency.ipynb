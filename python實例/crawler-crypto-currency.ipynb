{
 "cells": [
  {
   "cell_type": "code",
   "execution_count": null,
   "metadata": {},
   "outputs": [
    {
     "name": "stdout",
     "output_type": "stream",
     "text": [
      "BTC 32797\n",
      "ETH 1983\n",
      "COMP 399.2\n",
      "['32797', '1983', '399.2', '13:47']\n",
      "=========\n"
     ]
    }
   ],
   "source": [
    "import requests\n",
    "import time\n",
    "import bs4 #beautifulsoup4\n",
    "import csv\n",
    "import os\n",
    "\n",
    "while True:\n",
    "    #目標爬取BTC、ETH、COMP即時價格\n",
    "    coins = [\"BTC\",\"ETH\",\"COMP\"]\n",
    "    price = [\"BTC_Price\",\"ETH_Price\",\"COMP_Price\",\"Time\"]\n",
    "    index = 0\n",
    "    times = time.strftime(\"%H:%M\", time.localtime())\n",
    "    date = time.strftime(\"%m%d\", time.localtime())\n",
    "    fileName = 'price_'+date+'.csv'\n",
    "    #若csv檔不存在，則先新增一個新的csv檔\n",
    "    if not os.path.isfile(fileName):\n",
    "        with open(fileName, 'a',newline=\"\") as csvfile:\n",
    "            spamwriter = csv.writer(csvfile)\n",
    "            spamwriter.writerow(price)\n",
    "    for coin in coins:\n",
    "        #連線 資料取自：ANUE鉅亨網\n",
    "        url = \"https://crypto.cnyes.com/\"+coin+\"/24h\"\n",
    "        response = requests.get(url=url)\n",
    "        #轉成html並找特色\n",
    "        root = bs4.BeautifulSoup(response.text,\"html.parser\")\n",
    "        titles = root.find(\"span\",class_=\"jsx-143270965 big-num\") #(標籤,class名稱)\n",
    "        #把價格內的,移除\n",
    "        coin_price = titles.string.replace(\",\",\"\")\n",
    "        #存入price\n",
    "        price[index] = coin_price\n",
    "        print(coin,coin_price)\n",
    "        index += 1\n",
    "    #存入時間\n",
    "    price[index] = times\n",
    "    print(price)\n",
    "    #將資料存入csv\n",
    "    with open(fileName, 'a',newline=\"\") as csvfile:\n",
    "        spamwriter = csv.writer(csvfile)\n",
    "        spamwriter.writerow(price)\n",
    "    print(\"=========\")\n",
    "    #sleep 10分鐘\n",
    "    time.sleep(600)"
   ]
  },
  {
   "cell_type": "code",
   "execution_count": null,
   "metadata": {},
   "outputs": [],
   "source": []
  }
 ],
 "metadata": {
  "kernelspec": {
   "display_name": "Python 3",
   "language": "python",
   "name": "python3"
  },
  "language_info": {
   "codemirror_mode": {
    "name": "ipython",
    "version": 3
   },
   "file_extension": ".py",
   "mimetype": "text/x-python",
   "name": "python",
   "nbconvert_exporter": "python",
   "pygments_lexer": "ipython3",
   "version": "3.7.7"
  }
 },
 "nbformat": 4,
 "nbformat_minor": 4
}
